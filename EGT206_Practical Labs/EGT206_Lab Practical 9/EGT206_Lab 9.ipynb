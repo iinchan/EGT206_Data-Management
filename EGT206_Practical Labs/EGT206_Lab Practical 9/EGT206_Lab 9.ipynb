{
 "cells": [
  {
   "cell_type": "markdown",
   "id": "03d39e80",
   "metadata": {},
   "source": [
    "### Activity2: Redis installation and setup"
   ]
  },
  {
   "cell_type": "code",
   "execution_count": null,
   "id": "13479d8f",
   "metadata": {},
   "outputs": [],
   "source": [
    "!pip install redis"
   ]
  },
  {
   "cell_type": "code",
   "execution_count": null,
   "id": "eb575e92",
   "metadata": {},
   "outputs": [],
   "source": [
    "# step 1: import the redis-py client package\n",
    "import redis\n",
    "\n",
    "# step 2: define our connection information for Redis\n",
    "config = {\n",
    "    \"host\": \"127.0.0.1\",\n",
    "    \"port\": 6379,\n",
    "}\n",
    "\n",
    "# step 3: create the Redis Connection object\n",
    "r = redis.StrictRedis(**config)\n",
    "\n",
    "r.info()\n",
    "print (\"Connected to DB-%d@%s:%d\" % (r.connection_pool.connection_kwargs['db'], r.connection_pool.connection_kwargs['host'], r.connection_pool.connection_kwargs['port']))"
   ]
  },
  {
   "cell_type": "markdown",
   "id": "6912104c",
   "metadata": {},
   "source": [
    "### Activity 3: Strings"
   ]
  },
  {
   "cell_type": "code",
   "execution_count": null,
   "id": "b3387e71",
   "metadata": {},
   "outputs": [],
   "source": []
  },
  {
   "cell_type": "code",
   "execution_count": null,
   "id": "cd56145b",
   "metadata": {},
   "outputs": [],
   "source": []
  },
  {
   "cell_type": "code",
   "execution_count": null,
   "id": "a59e5e2f",
   "metadata": {},
   "outputs": [],
   "source": []
  },
  {
   "cell_type": "code",
   "execution_count": null,
   "id": "1b09710d",
   "metadata": {},
   "outputs": [],
   "source": []
  },
  {
   "cell_type": "code",
   "execution_count": null,
   "id": "579c45a8",
   "metadata": {},
   "outputs": [],
   "source": []
  },
  {
   "cell_type": "code",
   "execution_count": null,
   "id": "e56debfc",
   "metadata": {},
   "outputs": [],
   "source": []
  },
  {
   "cell_type": "markdown",
   "id": "16827a55",
   "metadata": {},
   "source": [
    "### Activity 4: Key expiration"
   ]
  },
  {
   "cell_type": "code",
   "execution_count": null,
   "id": "ee1cd4a4",
   "metadata": {},
   "outputs": [],
   "source": []
  },
  {
   "cell_type": "code",
   "execution_count": null,
   "id": "f678f1cc",
   "metadata": {},
   "outputs": [],
   "source": []
  },
  {
   "cell_type": "markdown",
   "id": "a84d4904",
   "metadata": {},
   "source": [
    "### Activity 5: Lists"
   ]
  },
  {
   "cell_type": "code",
   "execution_count": null,
   "id": "29659900",
   "metadata": {},
   "outputs": [],
   "source": []
  },
  {
   "cell_type": "code",
   "execution_count": null,
   "id": "4b97f1af",
   "metadata": {},
   "outputs": [],
   "source": []
  },
  {
   "cell_type": "code",
   "execution_count": null,
   "id": "c1b14c88",
   "metadata": {},
   "outputs": [],
   "source": []
  },
  {
   "cell_type": "code",
   "execution_count": null,
   "id": "b70861f9",
   "metadata": {},
   "outputs": [],
   "source": []
  },
  {
   "cell_type": "code",
   "execution_count": null,
   "id": "32639875",
   "metadata": {},
   "outputs": [],
   "source": []
  },
  {
   "cell_type": "code",
   "execution_count": null,
   "id": "1ffd0e5e",
   "metadata": {},
   "outputs": [],
   "source": []
  },
  {
   "cell_type": "markdown",
   "id": "de43c1ef",
   "metadata": {},
   "source": [
    "### Activity 6: Sets"
   ]
  },
  {
   "cell_type": "code",
   "execution_count": null,
   "id": "d3b4fa1a",
   "metadata": {},
   "outputs": [],
   "source": []
  },
  {
   "cell_type": "code",
   "execution_count": null,
   "id": "73ef13e3",
   "metadata": {},
   "outputs": [],
   "source": []
  },
  {
   "cell_type": "code",
   "execution_count": null,
   "id": "07aa1206",
   "metadata": {},
   "outputs": [],
   "source": []
  },
  {
   "cell_type": "code",
   "execution_count": null,
   "id": "8b154b03",
   "metadata": {},
   "outputs": [],
   "source": []
  },
  {
   "cell_type": "code",
   "execution_count": null,
   "id": "1d4a5d36",
   "metadata": {},
   "outputs": [],
   "source": []
  },
  {
   "cell_type": "markdown",
   "id": "ef5c4102",
   "metadata": {},
   "source": [
    "### Activity 7: Hashes"
   ]
  },
  {
   "cell_type": "code",
   "execution_count": null,
   "id": "c80b693d",
   "metadata": {},
   "outputs": [],
   "source": []
  },
  {
   "cell_type": "code",
   "execution_count": null,
   "id": "bf9ac28e",
   "metadata": {},
   "outputs": [],
   "source": []
  },
  {
   "cell_type": "code",
   "execution_count": null,
   "id": "c0875390",
   "metadata": {},
   "outputs": [],
   "source": []
  },
  {
   "cell_type": "markdown",
   "id": "514a98fb",
   "metadata": {},
   "source": [
    "### Activity 8 : Sorted Sets"
   ]
  },
  {
   "cell_type": "code",
   "execution_count": null,
   "id": "71e66373",
   "metadata": {},
   "outputs": [],
   "source": []
  },
  {
   "cell_type": "code",
   "execution_count": null,
   "id": "ee85b81a",
   "metadata": {},
   "outputs": [],
   "source": []
  },
  {
   "cell_type": "code",
   "execution_count": null,
   "id": "be2d96c4",
   "metadata": {},
   "outputs": [],
   "source": []
  },
  {
   "cell_type": "code",
   "execution_count": null,
   "id": "c97df1d9",
   "metadata": {},
   "outputs": [],
   "source": []
  },
  {
   "cell_type": "code",
   "execution_count": null,
   "id": "a2e41bfa",
   "metadata": {},
   "outputs": [],
   "source": []
  },
  {
   "cell_type": "code",
   "execution_count": null,
   "id": "4fa75509",
   "metadata": {},
   "outputs": [],
   "source": []
  },
  {
   "cell_type": "code",
   "execution_count": null,
   "id": "2f3feaea",
   "metadata": {},
   "outputs": [],
   "source": []
  },
  {
   "cell_type": "markdown",
   "id": "ec23ca25",
   "metadata": {},
   "source": [
    "### Activity 9: Write a python application (optional)"
   ]
  },
  {
   "cell_type": "code",
   "execution_count": null,
   "id": "85022d61",
   "metadata": {},
   "outputs": [],
   "source": [
    "# step 1: import the redis-py client package\n",
    "<your code>\n",
    "\n",
    "# step 2: define our connection information for Redis\n",
    "<your code>\n",
    "\n",
    "# step 3: create the Redis Connection object\n",
    "<your code>\n",
    "\n",
    "def create_database():    \n",
    "    \n",
    "    try:\n",
    "       \n",
    "        # step 4: Use a suitable data type to contain the product details.\n",
    "        <your code>\n",
    "        \n",
    "        # step 5: Check to make sure ”HatModelC”-value”color” exists\n",
    "        msg = <your code>\n",
    "        print(\"Does HatModelC exist?\", msg)        \n",
    "    \n",
    "    except Exception as e:\n",
    "        print(e)\n",
    "\n",
    "def click_purchase(hat_model):    \n",
    "#Simulates when user clicks Purchase    \n",
    "    try:\n",
    "          \n",
    "        # step 6: Check if the item is in stock.\n",
    "        # If yes, increase its npurchased by 1 and decrease its quantity by 1.\n",
    "        if <your code> > b\"0\":\n",
    "            <your code>\n",
    "        else:\n",
    "            print(\"Sorry,\", hat_model , \"is out of stock!\")\n",
    "            \n",
    "        #step 7: Get updated info for that item.\n",
    "        msg = <your code>\n",
    "        print(msg)\n",
    "        \n",
    "    except Exception as e:\n",
    "        print(e)\n",
    "\n",
    "if __name__ == '__main__':\n",
    "    create_database()\n",
    "    click_purchase(\"HatModelC\")"
   ]
  }
 ],
 "metadata": {
  "kernelspec": {
   "display_name": "Python 3",
   "language": "python",
   "name": "python3"
  },
  "language_info": {
   "codemirror_mode": {
    "name": "ipython",
    "version": 3
   },
   "file_extension": ".py",
   "mimetype": "text/x-python",
   "name": "python",
   "nbconvert_exporter": "python",
   "pygments_lexer": "ipython3",
   "version": "3.7.6"
  }
 },
 "nbformat": 4,
 "nbformat_minor": 5
}
