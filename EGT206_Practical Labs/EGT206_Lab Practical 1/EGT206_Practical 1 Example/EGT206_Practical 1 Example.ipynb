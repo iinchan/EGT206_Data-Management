{
 "cells": [
  {
   "cell_type": "markdown",
   "id": "ed83bad9",
   "metadata": {},
   "source": [
    "# Clean and prepare data in a Pandas DataFrame\n",
    "Pandas provides you with several fast, flexible, and intuitive ways to clean and prepare your data. By the end of this tutorial, you’ll have learned all you need to know to get started with:\n",
    "\n",
    "Working with missing data using methods such as .fillna()\n",
    "\n",
    "Working with duplicate data using methods such as the .remove_duplicates() method\n",
    "\n",
    "Cleaning string data using the .str accessor."
   ]
  },
  {
   "cell_type": "code",
   "execution_count": 2,
   "id": "91d4f5be",
   "metadata": {},
   "outputs": [
    {
     "name": "stdout",
     "output_type": "stream",
     "text": [
      "   Name   Age  Location\n",
      "0   Nik  33.0   Toronto\n",
      "1  Kate  32.0    London\n",
      "2  Evan  40.0  New York\n",
      "3  Kyra  57.0       NaN\n",
      "4   NaN   NaN       NaN\n"
     ]
    }
   ],
   "source": [
    "# Loading a Sample Pandas DataFrame\n",
    "import pandas as pd\n",
    "import numpy as np\n",
    "df = pd.DataFrame.from_dict({\n",
    "    'Name': ['Nik', 'Kate', 'Evan', 'Kyra', np.NaN],\n",
    "    'Age': [33, 32, 40, 57, np.NaN],\n",
    "    'Location': ['Toronto', 'London', 'New York', np.NaN, np.NaN]\n",
    "})\n",
    "print(df)"
   ]
  },
  {
   "cell_type": "markdown",
   "id": "ed111082",
   "metadata": {},
   "source": [
    "The first method is head() - which returns the first 5 rows of the dataset."
   ]
  },
  {
   "cell_type": "code",
   "execution_count": 29,
   "id": "2d25b707",
   "metadata": {},
   "outputs": [
    {
     "data": {
      "text/html": [
       "<div>\n",
       "<style scoped>\n",
       "    .dataframe tbody tr th:only-of-type {\n",
       "        vertical-align: middle;\n",
       "    }\n",
       "\n",
       "    .dataframe tbody tr th {\n",
       "        vertical-align: top;\n",
       "    }\n",
       "\n",
       "    .dataframe thead th {\n",
       "        text-align: right;\n",
       "    }\n",
       "</style>\n",
       "<table border=\"1\" class=\"dataframe\">\n",
       "  <thead>\n",
       "    <tr style=\"text-align: right;\">\n",
       "      <th></th>\n",
       "      <th>Name</th>\n",
       "      <th>Location</th>\n",
       "      <th>Sales</th>\n",
       "    </tr>\n",
       "  </thead>\n",
       "  <tbody>\n",
       "    <tr>\n",
       "      <th>1</th>\n",
       "      <td>Lana; Courtney</td>\n",
       "      <td>LONDON</td>\n",
       "      <td>243.0</td>\n",
       "    </tr>\n",
       "    <tr>\n",
       "      <th>2</th>\n",
       "      <td>Abel; Shakti</td>\n",
       "      <td>New york</td>\n",
       "      <td>654.0</td>\n",
       "    </tr>\n",
       "    <tr>\n",
       "      <th>3</th>\n",
       "      <td>Vasu; Imogene</td>\n",
       "      <td>NaN</td>\n",
       "      <td>NaN</td>\n",
       "    </tr>\n",
       "    <tr>\n",
       "      <th>4</th>\n",
       "      <td>Aravind; Shelly</td>\n",
       "      <td>toronto</td>\n",
       "      <td>345.0</td>\n",
       "    </tr>\n",
       "    <tr>\n",
       "      <th>5</th>\n",
       "      <td>Tranter; Melvyn</td>\n",
       "      <td>Madrid</td>\n",
       "      <td>NaN</td>\n",
       "    </tr>\n",
       "  </tbody>\n",
       "</table>\n",
       "</div>"
      ],
      "text/plain": [
       "              Name  Location  Sales\n",
       "1   Lana; Courtney    LONDON  243.0\n",
       "2     Abel; Shakti  New york  654.0\n",
       "3    Vasu; Imogene       NaN    NaN\n",
       "4  Aravind; Shelly   toronto  345.0\n",
       "5  Tranter; Melvyn    Madrid    NaN"
      ]
     },
     "execution_count": 29,
     "metadata": {},
     "output_type": "execute_result"
    }
   ],
   "source": [
    "df.head()"
   ]
  },
  {
   "cell_type": "markdown",
   "id": "336ef830",
   "metadata": {},
   "source": [
    "# Understanding the Pandas isnull Method\n",
    "Pandas comes with an incredibly helpful method, .isnull(), that identifies whether a value is missing or not. \n",
    "\n",
    "The method returns a boolean value, either True or False. \n",
    "\n",
    "We can apply the method either to an entire DataFrame or to a single column. \n",
    "\n",
    "The method will broadcast correctly to either the Series or the DataFrame, depending on what it’s applied to. \n",
    "\n",
    "Let’s take a quick look:"
   ]
  },
  {
   "cell_type": "code",
   "execution_count": 3,
   "id": "4a623bfb",
   "metadata": {},
   "outputs": [
    {
     "name": "stdout",
     "output_type": "stream",
     "text": [
      "    Name    Age  Location\n",
      "0  False  False     False\n",
      "1  False  False     False\n",
      "2  False  False     False\n",
      "3  False  False      True\n",
      "4   True   True      True\n"
     ]
    }
   ],
   "source": [
    "# Exploring the .isnull() method\n",
    "print(df.isnull())"
   ]
  },
  {
   "cell_type": "markdown",
   "id": "cad0dde7",
   "metadata": {},
   "source": [
    "# Counting Missing Values in a Pandas DataFrame\n",
    "One of the first steps you’ll want to take is to understand how many missing values you actually have in your DataFrame. \n",
    "\n",
    "One way to do this is to use a chained version the .isnull() method and the .sum() method:"
   ]
  },
  {
   "cell_type": "code",
   "execution_count": 4,
   "id": "af96022c",
   "metadata": {},
   "outputs": [
    {
     "name": "stdout",
     "output_type": "stream",
     "text": [
      "Name        1\n",
      "Age         1\n",
      "Location    2\n",
      "dtype: int64\n"
     ]
    }
   ],
   "source": [
    "print(df.isnull().sum())"
   ]
  },
  {
   "cell_type": "markdown",
   "id": "7a50af66",
   "metadata": {},
   "source": [
    "# Dropping Missing Data in a Pandas DataFrame\n",
    "When working with missing data, it’s often good to do one of two things: \n",
    "    \n",
    "    either drop the records or find ways to fill the data."
   ]
  },
  {
   "cell_type": "code",
   "execution_count": 5,
   "id": "51d2b4a6",
   "metadata": {},
   "outputs": [
    {
     "data": {
      "text/html": [
       "<div>\n",
       "<style scoped>\n",
       "    .dataframe tbody tr th:only-of-type {\n",
       "        vertical-align: middle;\n",
       "    }\n",
       "\n",
       "    .dataframe tbody tr th {\n",
       "        vertical-align: top;\n",
       "    }\n",
       "\n",
       "    .dataframe thead th {\n",
       "        text-align: right;\n",
       "    }\n",
       "</style>\n",
       "<table border=\"1\" class=\"dataframe\">\n",
       "  <thead>\n",
       "    <tr style=\"text-align: right;\">\n",
       "      <th></th>\n",
       "      <th>Name</th>\n",
       "      <th>Age</th>\n",
       "      <th>Location</th>\n",
       "    </tr>\n",
       "  </thead>\n",
       "  <tbody>\n",
       "    <tr>\n",
       "      <th>0</th>\n",
       "      <td>Nik</td>\n",
       "      <td>33.0</td>\n",
       "      <td>Toronto</td>\n",
       "    </tr>\n",
       "    <tr>\n",
       "      <th>1</th>\n",
       "      <td>Kate</td>\n",
       "      <td>32.0</td>\n",
       "      <td>London</td>\n",
       "    </tr>\n",
       "    <tr>\n",
       "      <th>2</th>\n",
       "      <td>Evan</td>\n",
       "      <td>40.0</td>\n",
       "      <td>New York</td>\n",
       "    </tr>\n",
       "  </tbody>\n",
       "</table>\n",
       "</div>"
      ],
      "text/plain": [
       "   Name   Age  Location\n",
       "0   Nik  33.0   Toronto\n",
       "1  Kate  32.0    London\n",
       "2  Evan  40.0  New York"
      ]
     },
     "execution_count": 5,
     "metadata": {},
     "output_type": "execute_result"
    }
   ],
   "source": [
    "# Exploring the Pandas .dropna() method\n",
    "df.dropna(\n",
    "    axis=0,         # Whether to drop rows or columns\n",
    "    how='any',      # Whether to drop records if 'all' or 'any' records are missing\n",
    "    thresh=None,    # How many columns/rows must be missing to drop\n",
    "    subset=None,    # Which rows/columns to consider\n",
    "    inplace=False   # Whether to drop in place (i.e., without needing to re-assign)\n",
    ")"
   ]
  },
  {
   "cell_type": "code",
   "execution_count": 6,
   "id": "ecb9e391",
   "metadata": {},
   "outputs": [
    {
     "data": {
      "text/html": [
       "<div>\n",
       "<style scoped>\n",
       "    .dataframe tbody tr th:only-of-type {\n",
       "        vertical-align: middle;\n",
       "    }\n",
       "\n",
       "    .dataframe tbody tr th {\n",
       "        vertical-align: top;\n",
       "    }\n",
       "\n",
       "    .dataframe thead th {\n",
       "        text-align: right;\n",
       "    }\n",
       "</style>\n",
       "<table border=\"1\" class=\"dataframe\">\n",
       "  <thead>\n",
       "    <tr style=\"text-align: right;\">\n",
       "      <th></th>\n",
       "      <th>Name</th>\n",
       "      <th>Age</th>\n",
       "      <th>Location</th>\n",
       "    </tr>\n",
       "  </thead>\n",
       "  <tbody>\n",
       "    <tr>\n",
       "      <th>0</th>\n",
       "      <td>Nik</td>\n",
       "      <td>33.0</td>\n",
       "      <td>Toronto</td>\n",
       "    </tr>\n",
       "    <tr>\n",
       "      <th>1</th>\n",
       "      <td>Kate</td>\n",
       "      <td>32.0</td>\n",
       "      <td>London</td>\n",
       "    </tr>\n",
       "    <tr>\n",
       "      <th>2</th>\n",
       "      <td>Evan</td>\n",
       "      <td>40.0</td>\n",
       "      <td>New York</td>\n",
       "    </tr>\n",
       "  </tbody>\n",
       "</table>\n",
       "</div>"
      ],
      "text/plain": [
       "   Name   Age  Location\n",
       "0   Nik  33.0   Toronto\n",
       "1  Kate  32.0    London\n",
       "2  Evan  40.0  New York"
      ]
     },
     "execution_count": 6,
     "metadata": {},
     "output_type": "execute_result"
    }
   ],
   "source": [
    "#By default, Pandas will drop records where any value is missing. \n",
    "#Because of this, it also removed the fourth row, where only one value was missing.\n",
    "df.dropna()"
   ]
  },
  {
   "cell_type": "markdown",
   "id": "773b64dc",
   "metadata": {},
   "source": [
    "# Filling Missing Data in a Pandas DataFrame\n",
    "Removing missing data also removes any associated data from those records.\n",
    "\n",
    "Because of this, it can be helpful to fill in missing values. \n",
    "\n",
    "You can do this using the .fillna() method."
   ]
  },
  {
   "cell_type": "code",
   "execution_count": 7,
   "id": "51227357",
   "metadata": {},
   "outputs": [
    {
     "name": "stdout",
     "output_type": "stream",
     "text": [
      "   Name   Age  Location\n",
      "0   Nik  33.0   Toronto\n",
      "1  Kate  32.0    London\n",
      "2  Evan  40.0  New York\n",
      "3  Kyra  57.0         0\n",
      "4     0   0.0         0\n"
     ]
    }
   ],
   "source": [
    "# Using .fillna() to Fill Missing Data\n",
    "df = df.fillna(0)\n",
    "print(df)"
   ]
  },
  {
   "cell_type": "code",
   "execution_count": 8,
   "id": "c86a90eb",
   "metadata": {},
   "outputs": [
    {
     "name": "stdout",
     "output_type": "stream",
     "text": [
      "   Name   Age  Location\n",
      "0   Nik  33.0   Toronto\n",
      "1  Kate  32.0    London\n",
      "2  Evan  40.0  New York\n",
      "3  Kyra  57.0         0\n",
      "4     0   0.0         0\n"
     ]
    }
   ],
   "source": [
    "# Filling Columns with Different Values\n",
    "df = df.fillna({'Name': 'Someone', 'Age': 25, 'Location': 'USA'})\n",
    "print(df)\n",
    "\n",
    "# Returns:\n",
    "#       Name   Age  Location\n",
    "# 0      Nik  33.0   Toronto\n",
    "# 1     Kate  32.0    London\n",
    "# 2     Evan  40.0  New York\n",
    "# 3     Kyra  57.0       USA\n",
    "# 4  Someone  25.0       USA"
   ]
  },
  {
   "cell_type": "code",
   "execution_count": 9,
   "id": "8f690258",
   "metadata": {},
   "outputs": [
    {
     "name": "stdout",
     "output_type": "stream",
     "text": [
      "   Name   Age  Location\n",
      "0   Nik  33.0   Toronto\n",
      "1  Kate  32.0    London\n",
      "2  Evan  40.0  New York\n",
      "3  Kyra  57.0         0\n",
      "4     0   0.0         0\n"
     ]
    }
   ],
   "source": [
    "# Imputing a Missing Value\n",
    "df['Age'] = df['Age'].fillna(df['Age'].mean())\n",
    "print(df)\n",
    "\n",
    "# Returns:\n",
    "#    Name   Age  Location\n",
    "# 0   Nik  33.0   Toronto\n",
    "# 1  Kate  32.0    London\n",
    "# 2  Evan  40.0  New York\n",
    "# 3  Kyra  57.0       NaN\n",
    "# 4   NaN  40.5       NaN"
   ]
  },
  {
   "cell_type": "markdown",
   "id": "52fcaf1f",
   "metadata": {},
   "source": [
    "# Working with Duplicate Data in Pandas\n",
    "Duplicate data can be introduced into a dataset for a number of reasons. \n",
    "\n",
    "Sometimes this data can be valid, while other times it can present serious problems in your data’s integrity. \n",
    "\n",
    "Because of this, it’s important to understand how to find and deal with duplicate data."
   ]
  },
  {
   "cell_type": "code",
   "execution_count": 10,
   "id": "6163ff23",
   "metadata": {},
   "outputs": [
    {
     "name": "stdout",
     "output_type": "stream",
     "text": [
      "   Name  Age  Location Date Modified\n",
      "0   Nik   33   Toronto    2022-01-01\n",
      "1  Kate   32    London    2022-02-24\n",
      "2  Evan   40  New York    2022-08-12\n",
      "3  Kyra   57   Atlanta    2022-09-12\n",
      "4   Nik   33   Toronto    2022-01-01\n",
      "5  Kate   32     Paris    2022-12-09\n"
     ]
    }
   ],
   "source": [
    "# Loading a Sample Pandas DataFrame\n",
    "import pandas as pd\n",
    "df = pd.DataFrame.from_dict({\n",
    "    'Name': ['Nik', 'Kate', 'Evan', 'Kyra', 'Nik', 'Kate'],\n",
    "    'Age': [33, 32, 40, 57, 33, 32],\n",
    "    'Location': ['Toronto', 'London', 'New York', 'Atlanta', 'Toronto', 'Paris'],\n",
    "    'Date Modified': ['2022-01-01', '2022-02-24', '2022-08-12', '2022-09-12', '2022-01-01', '2022-12-09']\n",
    "})\n",
    "\n",
    "print(df)"
   ]
  },
  {
   "cell_type": "markdown",
   "id": "1b2e448f",
   "metadata": {},
   "source": [
    "# Identifying Duplicate Records in a Pandas DataFrame\n",
    "Pandas provides a helpful method, .duplicated(), which allows you to identify duplicate records in a dataset. \n",
    "\n",
    "The method returns boolean values when duplicate records exist."
   ]
  },
  {
   "cell_type": "code",
   "execution_count": 11,
   "id": "95734a3d",
   "metadata": {},
   "outputs": [
    {
     "name": "stdout",
     "output_type": "stream",
     "text": [
      "0    False\n",
      "1    False\n",
      "2    False\n",
      "3    False\n",
      "4     True\n",
      "5    False\n",
      "dtype: bool\n"
     ]
    }
   ],
   "source": [
    "# Identifying Duplicate Records in a Pandas DataFrame\n",
    "print(df.duplicated())"
   ]
  },
  {
   "cell_type": "code",
   "execution_count": 15,
   "id": "0722e4f2",
   "metadata": {},
   "outputs": [
    {
     "data": {
      "text/html": [
       "<div>\n",
       "<style scoped>\n",
       "    .dataframe tbody tr th:only-of-type {\n",
       "        vertical-align: middle;\n",
       "    }\n",
       "\n",
       "    .dataframe tbody tr th {\n",
       "        vertical-align: top;\n",
       "    }\n",
       "\n",
       "    .dataframe thead th {\n",
       "        text-align: right;\n",
       "    }\n",
       "</style>\n",
       "<table border=\"1\" class=\"dataframe\">\n",
       "  <thead>\n",
       "    <tr style=\"text-align: right;\">\n",
       "      <th></th>\n",
       "      <th>Name</th>\n",
       "      <th>Age</th>\n",
       "      <th>Location</th>\n",
       "      <th>Date Modified</th>\n",
       "    </tr>\n",
       "  </thead>\n",
       "  <tbody>\n",
       "    <tr>\n",
       "      <th>0</th>\n",
       "      <td>Nik</td>\n",
       "      <td>33</td>\n",
       "      <td>Toronto</td>\n",
       "      <td>2022-01-01</td>\n",
       "    </tr>\n",
       "    <tr>\n",
       "      <th>1</th>\n",
       "      <td>Kate</td>\n",
       "      <td>32</td>\n",
       "      <td>London</td>\n",
       "      <td>2022-02-24</td>\n",
       "    </tr>\n",
       "    <tr>\n",
       "      <th>2</th>\n",
       "      <td>Evan</td>\n",
       "      <td>40</td>\n",
       "      <td>New York</td>\n",
       "      <td>2022-08-12</td>\n",
       "    </tr>\n",
       "    <tr>\n",
       "      <th>3</th>\n",
       "      <td>Kyra</td>\n",
       "      <td>57</td>\n",
       "      <td>Atlanta</td>\n",
       "      <td>2022-09-12</td>\n",
       "    </tr>\n",
       "    <tr>\n",
       "      <th>5</th>\n",
       "      <td>Kate</td>\n",
       "      <td>32</td>\n",
       "      <td>Paris</td>\n",
       "      <td>2022-12-09</td>\n",
       "    </tr>\n",
       "  </tbody>\n",
       "</table>\n",
       "</div>"
      ],
      "text/plain": [
       "   Name  Age  Location Date Modified\n",
       "0   Nik   33   Toronto    2022-01-01\n",
       "1  Kate   32    London    2022-02-24\n",
       "2  Evan   40  New York    2022-08-12\n",
       "3  Kyra   57   Atlanta    2022-09-12\n",
       "5  Kate   32     Paris    2022-12-09"
      ]
     },
     "execution_count": 15,
     "metadata": {},
     "output_type": "execute_result"
    }
   ],
   "source": [
    "#Removing Duplicate Data in a Pandas DataFrame\n",
    "df.drop_duplicates()"
   ]
  },
  {
   "cell_type": "markdown",
   "id": "8c83247a",
   "metadata": {},
   "source": [
    "# Cleaning Strings in Pandas"
   ]
  },
  {
   "cell_type": "code",
   "execution_count": 16,
   "id": "e22760a8",
   "metadata": {},
   "outputs": [
    {
     "name": "stdout",
     "output_type": "stream",
     "text": [
      "              Name    Region  Location Favorite Color\n",
      "0  Tranter, Melvyn  Region A   TORONTO        green  \n",
      "1   Lana, Courtney  Region A    LONDON            red\n",
      "2     Abel, Shakti  Region B  New york         yellow\n",
      "3    Vasu, Imogene  Region C   ATLANTA           blue\n",
      "4  Aravind, Shelly  Region D   toronto       purple  \n"
     ]
    }
   ],
   "source": [
    "# Loading a Sample Pandas DataFrame\n",
    "import pandas as pd\n",
    "df = pd.DataFrame.from_dict({\n",
    "    'Name': ['Tranter, Melvyn', 'Lana, Courtney', 'Abel, Shakti', 'Vasu, Imogene', 'Aravind, Shelly'],\n",
    "    'Region': ['Region A', 'Region A', 'Region B', 'Region C', 'Region D'],\n",
    "    'Location': ['TORONTO', 'LONDON', 'New york', 'ATLANTA', 'toronto'],\n",
    "    'Favorite Color': ['   green  ', 'red', '  yellow', 'blue', 'purple  ']\n",
    "})\n",
    "\n",
    "print(df)"
   ]
  },
  {
   "cell_type": "markdown",
   "id": "193999bf",
   "metadata": {},
   "source": [
    "We can see that our DataFrame has some messy string data! For example, some columns contain multiple data points (first and last name), others have redundant data (the word ‘Region’), have messy capitalization (location), and have added whitespace (favorite colors)."
   ]
  },
  {
   "cell_type": "markdown",
   "id": "2450531e",
   "metadata": {},
   "source": [
    "# Trimming White Space in Pandas Strings"
   ]
  },
  {
   "cell_type": "markdown",
   "id": "0de5a9ef",
   "metadata": {},
   "source": [
    "Let’s start off by removing whitespace from text in Pandas. We can see that the column 'Favorite Color' has extra whitespace on either end of the color. Python comes with a number of methods to strip whitespace from the front of a string, the back of a string, or either end. Because the whitespace exists on either end of the string, we will make use of the .strip() method."
   ]
  },
  {
   "cell_type": "code",
   "execution_count": 17,
   "id": "181c8124",
   "metadata": {},
   "outputs": [
    {
     "name": "stdout",
     "output_type": "stream",
     "text": [
      "              Name    Region  Location Favorite Color\n",
      "0  Tranter, Melvyn  Region A   TORONTO          green\n",
      "1   Lana, Courtney  Region A    LONDON            red\n",
      "2     Abel, Shakti  Region B  New york         yellow\n",
      "3    Vasu, Imogene  Region C   ATLANTA           blue\n",
      "4  Aravind, Shelly  Region D   toronto         purple\n"
     ]
    }
   ],
   "source": [
    "# Trimming Whitespace from a Pandas Column\n",
    "df['Favorite Color'] = df['Favorite Color'].str.strip()\n",
    "print(df)"
   ]
  },
  {
   "cell_type": "markdown",
   "id": "dfd8685b",
   "metadata": {},
   "source": [
    "# Splitting Strings into Columns in Pandas"
   ]
  },
  {
   "cell_type": "markdown",
   "id": "e09a269c",
   "metadata": {},
   "source": [
    "The 'Name' column contains both the person’s last and first names. In many cases, you may want to split this column into two – one for each the first and last name. This approach will work a little differently, as we will want to assign two columns, rather than just one."
   ]
  },
  {
   "cell_type": "code",
   "execution_count": 18,
   "id": "247dc3e5",
   "metadata": {},
   "outputs": [
    {
     "name": "stdout",
     "output_type": "stream",
     "text": [
      "0    [Tranter,  Melvyn]\n",
      "1     [Lana,  Courtney]\n",
      "2       [Abel,  Shakti]\n",
      "3      [Vasu,  Imogene]\n",
      "4    [Aravind,  Shelly]\n",
      "Name: Name, dtype: object\n"
     ]
    }
   ],
   "source": [
    "# Applying .split on a column\n",
    "print(df['Name'].str.split(','))"
   ]
  },
  {
   "cell_type": "markdown",
   "id": "34ed5967",
   "metadata": {},
   "source": [
    "We can see that this returned a list of strings. What we want to do, however, is assign this to multiple columns. In order to do this, we need to pass in the expand=True argument, in order to instruct Pandas to split the values into separate items. From there, we can assign the values into two columns:"
   ]
  },
  {
   "cell_type": "code",
   "execution_count": 19,
   "id": "de047e77",
   "metadata": {},
   "outputs": [
    {
     "name": "stdout",
     "output_type": "stream",
     "text": [
      "              Name    Region  Location Favorite Color Last Name First Name\n",
      "0  Tranter, Melvyn  Region A   TORONTO          green   Tranter     Melvyn\n",
      "1   Lana, Courtney  Region A    LONDON            red      Lana   Courtney\n",
      "2     Abel, Shakti  Region B  New york         yellow      Abel     Shakti\n",
      "3    Vasu, Imogene  Region C   ATLANTA           blue      Vasu    Imogene\n",
      "4  Aravind, Shelly  Region D   toronto         purple   Aravind     Shelly\n"
     ]
    }
   ],
   "source": [
    "# Splitting a Column into Two Columns\n",
    "df[['Last Name', 'First Name']] = df['Name'].str.split(',', expand=True)\n",
    "\n",
    "print(df)"
   ]
  },
  {
   "cell_type": "markdown",
   "id": "9c198f4d",
   "metadata": {},
   "source": [
    "# Replacing Text in Strings in Pandas"
   ]
  },
  {
   "cell_type": "markdown",
   "id": "59e5256f",
   "metadata": {},
   "source": [
    "In the 'Region' column, the word “Region” is redundant. In this example, you’ll learn how to replace some text in a column. In particular, you’ll learn how to remove a given substring in a larger string. For this, we can use the aptly-named .replace() method. The method takes a string we want to replace and a string that we want to substitute with. Because we want to remove a substring, we’ll simply pass in an empty string to substitute with."
   ]
  },
  {
   "cell_type": "code",
   "execution_count": 20,
   "id": "81818d49",
   "metadata": {},
   "outputs": [
    {
     "name": "stdout",
     "output_type": "stream",
     "text": [
      "              Name Region  Location Favorite Color Last Name First Name\n",
      "0  Tranter, Melvyn      A   TORONTO          green   Tranter     Melvyn\n",
      "1   Lana, Courtney      A    LONDON            red      Lana   Courtney\n",
      "2     Abel, Shakti      B  New york         yellow      Abel     Shakti\n",
      "3    Vasu, Imogene      C   ATLANTA           blue      Vasu    Imogene\n",
      "4  Aravind, Shelly      D   toronto         purple   Aravind     Shelly\n"
     ]
    }
   ],
   "source": [
    "# Replacing a Substring in Pandas\n",
    "df['Region'] = df['Region'].str.replace('Region ', '')\n",
    "print(df)"
   ]
  },
  {
   "cell_type": "markdown",
   "id": "d8f9b406",
   "metadata": {},
   "source": [
    "# Changing String Case in Pandas"
   ]
  },
  {
   "cell_type": "markdown",
   "id": "26e0c5f5",
   "metadata": {},
   "source": [
    "In this section, we’ll learn how to fix the odd and inconsistent casing that exists in the 'Location' column. Pandas provides access to a number of methods that allow us to change cases of strings:\n",
    "\n",
    ".upper() will convert a string to all upper case\n",
    "\n",
    ".lower() will convert a string to all lower case\n",
    "\n",
    ".title() will convert a string to title case\n",
    "\n",
    "In this case, we want our locations to be in title case, so we can apply to .str.title() method to the string:"
   ]
  },
  {
   "cell_type": "code",
   "execution_count": 22,
   "id": "454ee698",
   "metadata": {},
   "outputs": [
    {
     "name": "stdout",
     "output_type": "stream",
     "text": [
      "              Name Region  Location Favorite Color Last Name First Name\n",
      "0  Tranter, Melvyn      A   Toronto          green   Tranter     Melvyn\n",
      "1   Lana, Courtney      A    London            red      Lana   Courtney\n",
      "2     Abel, Shakti      B  New York         yellow      Abel     Shakti\n",
      "3    Vasu, Imogene      C   Atlanta           blue      Vasu    Imogene\n",
      "4  Aravind, Shelly      D   Toronto         purple   Aravind     Shelly\n"
     ]
    }
   ],
   "source": [
    "# Changing Text to Title Case in Pandas\n",
    "df['Location'] = df['Location'].str.title()\n",
    "print(df)"
   ]
  },
  {
   "cell_type": "markdown",
   "id": "169710c9",
   "metadata": {},
   "source": [
    "# Exercise"
   ]
  },
  {
   "cell_type": "code",
   "execution_count": 26,
   "id": "6aec624e",
   "metadata": {},
   "outputs": [
    {
     "name": "stdout",
     "output_type": "stream",
     "text": [
      "              Name  Location  Sales\n",
      "0  Tranter; Melvyn   TORONTO  123.0\n",
      "1   Lana; Courtney    LONDON  243.0\n",
      "2     Abel; Shakti  New york  654.0\n",
      "3    Vasu; Imogene       NaN    NaN\n",
      "4  Aravind; Shelly   toronto  345.0\n",
      "5  Tranter; Melvyn    Madrid    NaN\n"
     ]
    }
   ],
   "source": [
    "# Loading a DataFrame\n",
    "import pandas as pd\n",
    "import numpy as np\n",
    "\n",
    "df = pd.DataFrame.from_dict({\n",
    "    'Name': ['Tranter; Melvyn', 'Lana; Courtney', 'Abel; Shakti', 'Vasu; Imogene', 'Aravind; Shelly', 'Tranter; Melvyn'],\n",
    "    'Location': ['TORONTO', 'LONDON', 'New york', np.NaN, 'toronto', 'Madrid'],\n",
    "    'Sales': [123, 243, 654, np.NaN, 345, np.NaN]\n",
    "})\n",
    "print(df)"
   ]
  },
  {
   "cell_type": "markdown",
   "id": "b4a4e544",
   "metadata": {},
   "source": [
    "Question 1: Create a First Name and a Last Name column. Note that there is a semi-colon between names."
   ]
  },
  {
   "cell_type": "code",
   "execution_count": 25,
   "id": "2adf520e",
   "metadata": {},
   "outputs": [
    {
     "name": "stdout",
     "output_type": "stream",
     "text": [
      "              Name  Location  Sales Last Name First Name\n",
      "0  Tranter; Melvyn   TORONTO  123.0   Tranter     Melvyn\n",
      "1   Lana; Courtney    LONDON  243.0      Lana   Courtney\n",
      "2     Abel; Shakti  New york  654.0      Abel     Shakti\n",
      "3    Vasu; Imogene       NaN    NaN      Vasu    Imogene\n",
      "4  Aravind; Shelly   toronto  345.0   Aravind     Shelly\n",
      "5  Tranter; Melvyn    Madrid    NaN   Tranter     Melvyn\n"
     ]
    }
   ],
   "source": [
    "df[['Last Name', 'First Name']] = df['Name'].str.split(';', expand=True)\n",
    "print(df)"
   ]
  },
  {
   "cell_type": "markdown",
   "id": "47df8253",
   "metadata": {},
   "source": [
    "Question 2: Drop any duplicate records based only on the Name column, keeping the last record."
   ]
  },
  {
   "cell_type": "code",
   "execution_count": 27,
   "id": "b47eed49",
   "metadata": {},
   "outputs": [
    {
     "name": "stdout",
     "output_type": "stream",
     "text": [
      "              Name  Location  Sales\n",
      "1   Lana; Courtney    LONDON  243.0\n",
      "2     Abel; Shakti  New york  654.0\n",
      "3    Vasu; Imogene       NaN    NaN\n",
      "4  Aravind; Shelly   toronto  345.0\n",
      "5  Tranter; Melvyn    Madrid    NaN\n"
     ]
    }
   ],
   "source": [
    "df = df.drop_duplicates(subset='Name', keep='last')\n",
    "print(df)"
   ]
  },
  {
   "cell_type": "markdown",
   "id": "b460a142",
   "metadata": {},
   "source": [
    "Question 3: Calculate the percentage of missing records in each column."
   ]
  },
  {
   "cell_type": "code",
   "execution_count": 28,
   "id": "8239df39",
   "metadata": {},
   "outputs": [
    {
     "name": "stdout",
     "output_type": "stream",
     "text": [
      "Name        0.0\n",
      "Location    0.2\n",
      "Sales       0.4\n",
      "dtype: float64\n"
     ]
    }
   ],
   "source": [
    "print(df.isnull().sum() / len(df))"
   ]
  }
 ],
 "metadata": {
  "kernelspec": {
   "display_name": "Python 3",
   "language": "python",
   "name": "python3"
  },
  "language_info": {
   "codemirror_mode": {
    "name": "ipython",
    "version": 3
   },
   "file_extension": ".py",
   "mimetype": "text/x-python",
   "name": "python",
   "nbconvert_exporter": "python",
   "pygments_lexer": "ipython3",
   "version": "3.9.2"
  }
 },
 "nbformat": 4,
 "nbformat_minor": 5
}
